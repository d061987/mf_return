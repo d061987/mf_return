{
 "cells": [
  {
   "cell_type": "code",
   "execution_count": 141,
   "metadata": {},
   "outputs": [],
   "source": [
    "import mysql.connector as mysql\n",
    "import pandas as pd"
   ]
  },
  {
   "cell_type": "code",
   "execution_count": 142,
   "metadata": {},
   "outputs": [],
   "source": [
    "db = mysql.connect(host = 'localhost', port = 3306, user = 'root', password='Bappa@1234567', database='Stock2023')\n",
    "cursor = db.cursor()\n",
    "query = \"select * from mf_fund3\"\n",
    "\n",
    "cursor.execute(query)\n",
    "dbs = cursor.fetchall()"
   ]
  },
  {
   "cell_type": "code",
   "execution_count": 143,
   "metadata": {},
   "outputs": [
    {
     "name": "stderr",
     "output_type": "stream",
     "text": [
      "/var/folders/0y/mwh4sz4x7n98q__h0k1h0mkc0000gn/T/ipykernel_17267/3875687749.py:1: UserWarning: pandas only supports SQLAlchemy connectable (engine/connection) or database string URI or sqlite3 DBAPI2 connection. Other DBAPI2 objects are not tested. Please consider using SQLAlchemy.\n",
      "  mf_db = pd.read_sql(query, con = db)\n"
     ]
    }
   ],
   "source": [
    "mf_db = pd.read_sql(query, con = db)"
   ]
  },
  {
   "cell_type": "code",
   "execution_count": 144,
   "metadata": {},
   "outputs": [],
   "source": [
    "mf = mf_db.loc[:,['Scheme_Code','Scheme_Name','Net_Asset_Value','Date']]"
   ]
  },
  {
   "cell_type": "code",
   "execution_count": 145,
   "metadata": {},
   "outputs": [
    {
     "data": {
      "text/plain": [
       "Scheme_Code           0\n",
       "Scheme_Name        1818\n",
       "Net_Asset_Value    1818\n",
       "Date               1818\n",
       "dtype: int64"
      ]
     },
     "execution_count": 145,
     "metadata": {},
     "output_type": "execute_result"
    }
   ],
   "source": [
    "mf.isnull().sum()"
   ]
  },
  {
   "cell_type": "code",
   "execution_count": 146,
   "metadata": {},
   "outputs": [],
   "source": [
    "mf.dropna(axis=0 , inplace=True)"
   ]
  },
  {
   "cell_type": "code",
   "execution_count": 147,
   "metadata": {},
   "outputs": [],
   "source": [
    "mf_direct= mf[mf['Scheme_Name'].str.contains('Direct')]"
   ]
  },
  {
   "cell_type": "code",
   "execution_count": 148,
   "metadata": {},
   "outputs": [],
   "source": [
    "mf_growth = mf_direct[mf_direct['Scheme_Name'].str.contains('Growth')]"
   ]
  },
  {
   "cell_type": "code",
   "execution_count": 149,
   "metadata": {},
   "outputs": [
    {
     "data": {
      "text/plain": [
       "Union Liquid Fund - Direct Plan - Growth Option                     1825\n",
       "Invesco India Liquid Fund - Direct Plan - Growth                    1825\n",
       "BANK OF INDIA Liquid Fund- Direct Plan- Growth                      1825\n",
       "UTI-  Liquid Cash Plan - Direct Plan - Growth Option                1825\n",
       "Quantum Liquid Fund - Direct Plan Growth Option                     1825\n",
       "                                                                    ... \n",
       "Axis Business Cycles Fund - Direct Plan - Growth                       4\n",
       "Mirae Asset Flexi Cap Fund - Direct Plan - Growth                      4\n",
       "Aditya Birla Sun Life Retirement Fund-The 40s Plan-Direct Growth       1\n",
       "Aditya Birla Sun Life Retirement Fund-The 50s Plan-Direct Growth       1\n",
       "Aditya Birla Sun Life Retirement Fund-The 50s Plus-Direct Growth       1\n",
       "Name: Scheme_Name, Length: 1297, dtype: int64"
      ]
     },
     "execution_count": 149,
     "metadata": {},
     "output_type": "execute_result"
    }
   ],
   "source": [
    "mf_growth['Scheme_Name'].value_counts()"
   ]
  },
  {
   "cell_type": "code",
   "execution_count": 150,
   "metadata": {},
   "outputs": [
    {
     "name": "stderr",
     "output_type": "stream",
     "text": [
      "/var/folders/0y/mwh4sz4x7n98q__h0k1h0mkc0000gn/T/ipykernel_17267/2464115266.py:1: SettingWithCopyWarning: \n",
      "A value is trying to be set on a copy of a slice from a DataFrame.\n",
      "Try using .loc[row_indexer,col_indexer] = value instead\n",
      "\n",
      "See the caveats in the documentation: https://pandas.pydata.org/pandas-docs/stable/user_guide/indexing.html#returning-a-view-versus-a-copy\n",
      "  mf_growth['Net_Asset_Value'] = pd.to_numeric(mf_growth['Net_Asset_Value'], errors='coerce').fillna(0, downcast='infer')\n"
     ]
    }
   ],
   "source": [
    "mf_growth['Net_Asset_Value'] = pd.to_numeric(mf_growth['Net_Asset_Value'], errors='coerce').fillna(0, downcast='infer')"
   ]
  },
  {
   "cell_type": "code",
   "execution_count": 151,
   "metadata": {},
   "outputs": [
    {
     "name": "stderr",
     "output_type": "stream",
     "text": [
      "/var/folders/0y/mwh4sz4x7n98q__h0k1h0mkc0000gn/T/ipykernel_17267/1839261285.py:1: SettingWithCopyWarning: \n",
      "A value is trying to be set on a copy of a slice from a DataFrame.\n",
      "Try using .loc[row_indexer,col_indexer] = value instead\n",
      "\n",
      "See the caveats in the documentation: https://pandas.pydata.org/pandas-docs/stable/user_guide/indexing.html#returning-a-view-versus-a-copy\n",
      "  mf_growth['Date'] = pd.to_datetime(mf_growth['Date'])\n"
     ]
    }
   ],
   "source": [
    "mf_growth['Date'] = pd.to_datetime(mf_growth['Date'])"
   ]
  },
  {
   "cell_type": "code",
   "execution_count": 192,
   "metadata": {},
   "outputs": [
    {
     "name": "stdout",
     "output_type": "stream",
     "text": [
      "['120704' '120706' '120572' ... '147311' '151267' '150346']\n"
     ]
    }
   ],
   "source": [
    "all_fund_ID = mf_growth.Scheme_Code.unique()\n",
    "print(all_fund_ID)"
   ]
  },
  {
   "cell_type": "code",
   "execution_count": 152,
   "metadata": {},
   "outputs": [],
   "source": [
    "union_liquid_mf = mf_growth[mf_growth['Scheme_Name'].str.contains('Union Liquid Fund')]"
   ]
  },
  {
   "cell_type": "code",
   "execution_count": 153,
   "metadata": {},
   "outputs": [
    {
     "data": {
      "text/html": [
       "<div>\n",
       "<style scoped>\n",
       "    .dataframe tbody tr th:only-of-type {\n",
       "        vertical-align: middle;\n",
       "    }\n",
       "\n",
       "    .dataframe tbody tr th {\n",
       "        vertical-align: top;\n",
       "    }\n",
       "\n",
       "    .dataframe thead th {\n",
       "        text-align: right;\n",
       "    }\n",
       "</style>\n",
       "<table border=\"1\" class=\"dataframe\">\n",
       "  <thead>\n",
       "    <tr style=\"text-align: right;\">\n",
       "      <th></th>\n",
       "      <th>Scheme_Code</th>\n",
       "      <th>Scheme_Name</th>\n",
       "      <th>Net_Asset_Value</th>\n",
       "      <th>Date</th>\n",
       "    </tr>\n",
       "  </thead>\n",
       "  <tbody>\n",
       "    <tr>\n",
       "      <th>6701254</th>\n",
       "      <td>119303</td>\n",
       "      <td>Union Liquid Fund - Direct Plan - Growth Option</td>\n",
       "      <td>1724.4805</td>\n",
       "      <td>2018-03-04</td>\n",
       "    </tr>\n",
       "    <tr>\n",
       "      <th>6701255</th>\n",
       "      <td>119303</td>\n",
       "      <td>Union Liquid Fund - Direct Plan - Growth Option</td>\n",
       "      <td>1724.7936</td>\n",
       "      <td>2018-03-05</td>\n",
       "    </tr>\n",
       "    <tr>\n",
       "      <th>6701256</th>\n",
       "      <td>119303</td>\n",
       "      <td>Union Liquid Fund - Direct Plan - Growth Option</td>\n",
       "      <td>1725.1481</td>\n",
       "      <td>2018-03-06</td>\n",
       "    </tr>\n",
       "    <tr>\n",
       "      <th>6701257</th>\n",
       "      <td>119303</td>\n",
       "      <td>Union Liquid Fund - Direct Plan - Growth Option</td>\n",
       "      <td>1725.5550</td>\n",
       "      <td>2018-03-07</td>\n",
       "    </tr>\n",
       "    <tr>\n",
       "      <th>6701258</th>\n",
       "      <td>119303</td>\n",
       "      <td>Union Liquid Fund - Direct Plan - Growth Option</td>\n",
       "      <td>1725.8655</td>\n",
       "      <td>2018-03-08</td>\n",
       "    </tr>\n",
       "  </tbody>\n",
       "</table>\n",
       "</div>"
      ],
      "text/plain": [
       "        Scheme_Code                                      Scheme_Name  \\\n",
       "6701254      119303  Union Liquid Fund - Direct Plan - Growth Option   \n",
       "6701255      119303  Union Liquid Fund - Direct Plan - Growth Option   \n",
       "6701256      119303  Union Liquid Fund - Direct Plan - Growth Option   \n",
       "6701257      119303  Union Liquid Fund - Direct Plan - Growth Option   \n",
       "6701258      119303  Union Liquid Fund - Direct Plan - Growth Option   \n",
       "\n",
       "         Net_Asset_Value       Date  \n",
       "6701254        1724.4805 2018-03-04  \n",
       "6701255        1724.7936 2018-03-05  \n",
       "6701256        1725.1481 2018-03-06  \n",
       "6701257        1725.5550 2018-03-07  \n",
       "6701258        1725.8655 2018-03-08  "
      ]
     },
     "execution_count": 153,
     "metadata": {},
     "output_type": "execute_result"
    }
   ],
   "source": [
    "union_liquid_mf.head()"
   ]
  },
  {
   "cell_type": "code",
   "execution_count": 154,
   "metadata": {},
   "outputs": [
    {
     "data": {
      "text/plain": [
       "(1825, 4)"
      ]
     },
     "execution_count": 154,
     "metadata": {},
     "output_type": "execute_result"
    }
   ],
   "source": [
    "union_liquid_mf.shape"
   ]
  },
  {
   "cell_type": "code",
   "execution_count": 155,
   "metadata": {},
   "outputs": [
    {
     "data": {
      "text/plain": [
       "(Timestamp('2023-03-02 00:00:00'), Timestamp('2018-03-04 00:00:00'))"
      ]
     },
     "execution_count": 155,
     "metadata": {},
     "output_type": "execute_result"
    }
   ],
   "source": [
    "max(union_liquid_mf['Date']),min(union_liquid_mf['Date'])"
   ]
  },
  {
   "cell_type": "code",
   "execution_count": 156,
   "metadata": {},
   "outputs": [],
   "source": [
    "from datetime import datetime, timedelta,date"
   ]
  },
  {
   "cell_type": "code",
   "execution_count": 189,
   "metadata": {},
   "outputs": [],
   "source": [
    "start_date = pd.Timestamp(max(union_liquid_mf['Date']))\n",
    "end_date = start_date + pd.Timedelta(days=-1825)\n",
    "union_mf_5Y = union_liquid_mf.loc[(union_liquid_mf['Date'] <= start_date) & (union_liquid_mf['Date'] >= end_date), :]"
   ]
  },
  {
   "cell_type": "code",
   "execution_count": 190,
   "metadata": {},
   "outputs": [
    {
     "name": "stdout",
     "output_type": "stream",
     "text": [
      "2023-03-02 00:00:00 2018-03-03 00:00:00\n"
     ]
    }
   ],
   "source": [
    "print(start_date,  end_date)"
   ]
  },
  {
   "cell_type": "code",
   "execution_count": 191,
   "metadata": {},
   "outputs": [
    {
     "data": {
      "text/plain": [
       "(Timestamp('2023-03-02 00:00:00'), Timestamp('2018-03-04 00:00:00'))"
      ]
     },
     "execution_count": 191,
     "metadata": {},
     "output_type": "execute_result"
    }
   ],
   "source": [
    "max(union_mf_5Y['Date']),min(union_mf_5Y['Date'])"
   ]
  },
  {
   "cell_type": "code",
   "execution_count": 159,
   "metadata": {},
   "outputs": [
    {
     "data": {
      "text/plain": [
       "Scheme_Code           1\n",
       "Scheme_Name           1\n",
       "Net_Asset_Value    1735\n",
       "Date               1735\n",
       "dtype: int64"
      ]
     },
     "execution_count": 159,
     "metadata": {},
     "output_type": "execute_result"
    }
   ],
   "source": [
    "union_mf_5Y.nunique()"
   ]
  },
  {
   "cell_type": "code",
   "execution_count": 160,
   "metadata": {},
   "outputs": [
    {
     "name": "stderr",
     "output_type": "stream",
     "text": [
      "/var/folders/0y/mwh4sz4x7n98q__h0k1h0mkc0000gn/T/ipykernel_17267/2757731574.py:1: SettingWithCopyWarning: \n",
      "A value is trying to be set on a copy of a slice from a DataFrame\n",
      "\n",
      "See the caveats in the documentation: https://pandas.pydata.org/pandas-docs/stable/user_guide/indexing.html#returning-a-view-versus-a-copy\n",
      "  union_mf_5Y.sort_values(['Date'],ascending=[0],inplace=True)\n"
     ]
    }
   ],
   "source": [
    "union_mf_5Y.sort_values(['Date'],ascending=[0],inplace=True)"
   ]
  },
  {
   "cell_type": "code",
   "execution_count": 161,
   "metadata": {},
   "outputs": [
    {
     "data": {
      "text/html": [
       "<div>\n",
       "<style scoped>\n",
       "    .dataframe tbody tr th:only-of-type {\n",
       "        vertical-align: middle;\n",
       "    }\n",
       "\n",
       "    .dataframe tbody tr th {\n",
       "        vertical-align: top;\n",
       "    }\n",
       "\n",
       "    .dataframe thead th {\n",
       "        text-align: right;\n",
       "    }\n",
       "</style>\n",
       "<table border=\"1\" class=\"dataframe\">\n",
       "  <thead>\n",
       "    <tr style=\"text-align: right;\">\n",
       "      <th></th>\n",
       "      <th>Scheme_Code</th>\n",
       "      <th>Scheme_Name</th>\n",
       "      <th>Net_Asset_Value</th>\n",
       "      <th>Date</th>\n",
       "    </tr>\n",
       "  </thead>\n",
       "  <tbody>\n",
       "    <tr>\n",
       "      <th>6703078</th>\n",
       "      <td>119303</td>\n",
       "      <td>Union Liquid Fund - Direct Plan - Growth Option</td>\n",
       "      <td>2156.1427</td>\n",
       "      <td>2023-03-02</td>\n",
       "    </tr>\n",
       "    <tr>\n",
       "      <th>6702987</th>\n",
       "      <td>119303</td>\n",
       "      <td>Union Liquid Fund - Direct Plan - Growth Option</td>\n",
       "      <td>2121.4103</td>\n",
       "      <td>2022-12-01</td>\n",
       "    </tr>\n",
       "    <tr>\n",
       "      <th>6702986</th>\n",
       "      <td>119303</td>\n",
       "      <td>Union Liquid Fund - Direct Plan - Growth Option</td>\n",
       "      <td>2121.0349</td>\n",
       "      <td>2022-11-30</td>\n",
       "    </tr>\n",
       "    <tr>\n",
       "      <th>6702985</th>\n",
       "      <td>119303</td>\n",
       "      <td>Union Liquid Fund - Direct Plan - Growth Option</td>\n",
       "      <td>2120.6145</td>\n",
       "      <td>2022-11-29</td>\n",
       "    </tr>\n",
       "    <tr>\n",
       "      <th>6702984</th>\n",
       "      <td>119303</td>\n",
       "      <td>Union Liquid Fund - Direct Plan - Growth Option</td>\n",
       "      <td>2120.1962</td>\n",
       "      <td>2022-11-28</td>\n",
       "    </tr>\n",
       "  </tbody>\n",
       "</table>\n",
       "</div>"
      ],
      "text/plain": [
       "        Scheme_Code                                      Scheme_Name  \\\n",
       "6703078      119303  Union Liquid Fund - Direct Plan - Growth Option   \n",
       "6702987      119303  Union Liquid Fund - Direct Plan - Growth Option   \n",
       "6702986      119303  Union Liquid Fund - Direct Plan - Growth Option   \n",
       "6702985      119303  Union Liquid Fund - Direct Plan - Growth Option   \n",
       "6702984      119303  Union Liquid Fund - Direct Plan - Growth Option   \n",
       "\n",
       "         Net_Asset_Value       Date  \n",
       "6703078        2156.1427 2023-03-02  \n",
       "6702987        2121.4103 2022-12-01  \n",
       "6702986        2121.0349 2022-11-30  \n",
       "6702985        2120.6145 2022-11-29  \n",
       "6702984        2120.1962 2022-11-28  "
      ]
     },
     "execution_count": 161,
     "metadata": {},
     "output_type": "execute_result"
    }
   ],
   "source": [
    "union_mf_5Y.head()"
   ]
  },
  {
   "cell_type": "code",
   "execution_count": 162,
   "metadata": {},
   "outputs": [
    {
     "name": "stderr",
     "output_type": "stream",
     "text": [
      "/var/folders/0y/mwh4sz4x7n98q__h0k1h0mkc0000gn/T/ipykernel_17267/2320633096.py:1: SettingWithCopyWarning: \n",
      "A value is trying to be set on a copy of a slice from a DataFrame.\n",
      "Try using .loc[row_indexer,col_indexer] = value instead\n",
      "\n",
      "See the caveats in the documentation: https://pandas.pydata.org/pandas-docs/stable/user_guide/indexing.html#returning-a-view-versus-a-copy\n",
      "  union_mf_5Y['3M_OLD_Price'] = union_mf_5Y['Net_Asset_Value'].shift(-90)\n"
     ]
    }
   ],
   "source": [
    "union_mf_5Y['3M_OLD_Price'] = union_mf_5Y['Net_Asset_Value'].shift(-90)"
   ]
  },
  {
   "cell_type": "code",
   "execution_count": 163,
   "metadata": {},
   "outputs": [
    {
     "name": "stderr",
     "output_type": "stream",
     "text": [
      "/var/folders/0y/mwh4sz4x7n98q__h0k1h0mkc0000gn/T/ipykernel_17267/2836118118.py:1: SettingWithCopyWarning: \n",
      "A value is trying to be set on a copy of a slice from a DataFrame.\n",
      "Try using .loc[row_indexer,col_indexer] = value instead\n",
      "\n",
      "See the caveats in the documentation: https://pandas.pydata.org/pandas-docs/stable/user_guide/indexing.html#returning-a-view-versus-a-copy\n",
      "  union_mf_5Y['3M_per_chng']=(union_mf_5Y['Net_Asset_Value']/union_mf_5Y['3M_OLD_Price']-1)*100\n"
     ]
    }
   ],
   "source": [
    "union_mf_5Y['3M_per_chng']=(union_mf_5Y['Net_Asset_Value']/union_mf_5Y['3M_OLD_Price']-1)*100"
   ]
  },
  {
   "cell_type": "code",
   "execution_count": 164,
   "metadata": {},
   "outputs": [
    {
     "data": {
      "text/html": [
       "<div>\n",
       "<style scoped>\n",
       "    .dataframe tbody tr th:only-of-type {\n",
       "        vertical-align: middle;\n",
       "    }\n",
       "\n",
       "    .dataframe tbody tr th {\n",
       "        vertical-align: top;\n",
       "    }\n",
       "\n",
       "    .dataframe thead th {\n",
       "        text-align: right;\n",
       "    }\n",
       "</style>\n",
       "<table border=\"1\" class=\"dataframe\">\n",
       "  <thead>\n",
       "    <tr style=\"text-align: right;\">\n",
       "      <th></th>\n",
       "      <th>Scheme_Code</th>\n",
       "      <th>Scheme_Name</th>\n",
       "      <th>Net_Asset_Value</th>\n",
       "      <th>Date</th>\n",
       "      <th>3M_OLD_Price</th>\n",
       "      <th>3M_per_chng</th>\n",
       "    </tr>\n",
       "  </thead>\n",
       "  <tbody>\n",
       "    <tr>\n",
       "      <th>6703078</th>\n",
       "      <td>119303</td>\n",
       "      <td>Union Liquid Fund - Direct Plan - Growth Option</td>\n",
       "      <td>2156.1427</td>\n",
       "      <td>2023-03-02</td>\n",
       "      <td>2090.7862</td>\n",
       "      <td>3.125929</td>\n",
       "    </tr>\n",
       "    <tr>\n",
       "      <th>6702987</th>\n",
       "      <td>119303</td>\n",
       "      <td>Union Liquid Fund - Direct Plan - Growth Option</td>\n",
       "      <td>2121.4103</td>\n",
       "      <td>2022-12-01</td>\n",
       "      <td>2090.4754</td>\n",
       "      <td>1.479802</td>\n",
       "    </tr>\n",
       "    <tr>\n",
       "      <th>6702986</th>\n",
       "      <td>119303</td>\n",
       "      <td>Union Liquid Fund - Direct Plan - Growth Option</td>\n",
       "      <td>2121.0349</td>\n",
       "      <td>2022-11-30</td>\n",
       "      <td>2090.1246</td>\n",
       "      <td>1.478874</td>\n",
       "    </tr>\n",
       "    <tr>\n",
       "      <th>6702985</th>\n",
       "      <td>119303</td>\n",
       "      <td>Union Liquid Fund - Direct Plan - Growth Option</td>\n",
       "      <td>2120.6145</td>\n",
       "      <td>2022-11-29</td>\n",
       "      <td>2089.7893</td>\n",
       "      <td>1.475039</td>\n",
       "    </tr>\n",
       "    <tr>\n",
       "      <th>6702984</th>\n",
       "      <td>119303</td>\n",
       "      <td>Union Liquid Fund - Direct Plan - Growth Option</td>\n",
       "      <td>2120.1962</td>\n",
       "      <td>2022-11-28</td>\n",
       "      <td>2089.4715</td>\n",
       "      <td>1.470453</td>\n",
       "    </tr>\n",
       "  </tbody>\n",
       "</table>\n",
       "</div>"
      ],
      "text/plain": [
       "        Scheme_Code                                      Scheme_Name  \\\n",
       "6703078      119303  Union Liquid Fund - Direct Plan - Growth Option   \n",
       "6702987      119303  Union Liquid Fund - Direct Plan - Growth Option   \n",
       "6702986      119303  Union Liquid Fund - Direct Plan - Growth Option   \n",
       "6702985      119303  Union Liquid Fund - Direct Plan - Growth Option   \n",
       "6702984      119303  Union Liquid Fund - Direct Plan - Growth Option   \n",
       "\n",
       "         Net_Asset_Value       Date  3M_OLD_Price  3M_per_chng  \n",
       "6703078        2156.1427 2023-03-02     2090.7862     3.125929  \n",
       "6702987        2121.4103 2022-12-01     2090.4754     1.479802  \n",
       "6702986        2121.0349 2022-11-30     2090.1246     1.478874  \n",
       "6702985        2120.6145 2022-11-29     2089.7893     1.475039  \n",
       "6702984        2120.1962 2022-11-28     2089.4715     1.470453  "
      ]
     },
     "execution_count": 164,
     "metadata": {},
     "output_type": "execute_result"
    }
   ],
   "source": [
    "union_mf_5Y.head()"
   ]
  },
  {
   "cell_type": "code",
   "execution_count": 165,
   "metadata": {},
   "outputs": [
    {
     "name": "stderr",
     "output_type": "stream",
     "text": [
      "/var/folders/0y/mwh4sz4x7n98q__h0k1h0mkc0000gn/T/ipykernel_17267/4059165019.py:1: SettingWithCopyWarning: \n",
      "A value is trying to be set on a copy of a slice from a DataFrame.\n",
      "Try using .loc[row_indexer,col_indexer] = value instead\n",
      "\n",
      "See the caveats in the documentation: https://pandas.pydata.org/pandas-docs/stable/user_guide/indexing.html#returning-a-view-versus-a-copy\n",
      "  union_mf_5Y['6M_OLD_Price'] = union_mf_5Y['Net_Asset_Value'].shift(-120)\n"
     ]
    }
   ],
   "source": [
    "union_mf_5Y['6M_OLD_Price'] = union_mf_5Y['Net_Asset_Value'].shift(-120)"
   ]
  },
  {
   "cell_type": "code",
   "execution_count": 166,
   "metadata": {},
   "outputs": [
    {
     "name": "stderr",
     "output_type": "stream",
     "text": [
      "/var/folders/0y/mwh4sz4x7n98q__h0k1h0mkc0000gn/T/ipykernel_17267/2506056958.py:1: SettingWithCopyWarning: \n",
      "A value is trying to be set on a copy of a slice from a DataFrame.\n",
      "Try using .loc[row_indexer,col_indexer] = value instead\n",
      "\n",
      "See the caveats in the documentation: https://pandas.pydata.org/pandas-docs/stable/user_guide/indexing.html#returning-a-view-versus-a-copy\n",
      "  union_mf_5Y['6M_per_chng']=(union_mf_5Y['Net_Asset_Value']/union_mf_5Y['6M_OLD_Price']-1)*100\n"
     ]
    }
   ],
   "source": [
    "union_mf_5Y['6M_per_chng']=(union_mf_5Y['Net_Asset_Value']/union_mf_5Y['6M_OLD_Price']-1)*100"
   ]
  },
  {
   "cell_type": "code",
   "execution_count": 167,
   "metadata": {},
   "outputs": [
    {
     "data": {
      "text/html": [
       "<div>\n",
       "<style scoped>\n",
       "    .dataframe tbody tr th:only-of-type {\n",
       "        vertical-align: middle;\n",
       "    }\n",
       "\n",
       "    .dataframe tbody tr th {\n",
       "        vertical-align: top;\n",
       "    }\n",
       "\n",
       "    .dataframe thead th {\n",
       "        text-align: right;\n",
       "    }\n",
       "</style>\n",
       "<table border=\"1\" class=\"dataframe\">\n",
       "  <thead>\n",
       "    <tr style=\"text-align: right;\">\n",
       "      <th></th>\n",
       "      <th>Scheme_Code</th>\n",
       "      <th>Scheme_Name</th>\n",
       "      <th>Net_Asset_Value</th>\n",
       "      <th>Date</th>\n",
       "      <th>3M_OLD_Price</th>\n",
       "      <th>3M_per_chng</th>\n",
       "      <th>6M_OLD_Price</th>\n",
       "      <th>6M_per_chng</th>\n",
       "    </tr>\n",
       "  </thead>\n",
       "  <tbody>\n",
       "    <tr>\n",
       "      <th>6703078</th>\n",
       "      <td>119303</td>\n",
       "      <td>Union Liquid Fund - Direct Plan - Growth Option</td>\n",
       "      <td>2156.1427</td>\n",
       "      <td>2023-03-02</td>\n",
       "      <td>2090.7862</td>\n",
       "      <td>3.125929</td>\n",
       "      <td>2081.4058</td>\n",
       "      <td>3.590693</td>\n",
       "    </tr>\n",
       "    <tr>\n",
       "      <th>6702987</th>\n",
       "      <td>119303</td>\n",
       "      <td>Union Liquid Fund - Direct Plan - Growth Option</td>\n",
       "      <td>2121.4103</td>\n",
       "      <td>2022-12-01</td>\n",
       "      <td>2090.4754</td>\n",
       "      <td>1.479802</td>\n",
       "      <td>2081.1092</td>\n",
       "      <td>1.936520</td>\n",
       "    </tr>\n",
       "    <tr>\n",
       "      <th>6702986</th>\n",
       "      <td>119303</td>\n",
       "      <td>Union Liquid Fund - Direct Plan - Growth Option</td>\n",
       "      <td>2121.0349</td>\n",
       "      <td>2022-11-30</td>\n",
       "      <td>2090.1246</td>\n",
       "      <td>1.478874</td>\n",
       "      <td>2080.8100</td>\n",
       "      <td>1.933137</td>\n",
       "    </tr>\n",
       "    <tr>\n",
       "      <th>6702985</th>\n",
       "      <td>119303</td>\n",
       "      <td>Union Liquid Fund - Direct Plan - Growth Option</td>\n",
       "      <td>2120.6145</td>\n",
       "      <td>2022-11-29</td>\n",
       "      <td>2089.7893</td>\n",
       "      <td>1.475039</td>\n",
       "      <td>2080.4052</td>\n",
       "      <td>1.932763</td>\n",
       "    </tr>\n",
       "    <tr>\n",
       "      <th>6702984</th>\n",
       "      <td>119303</td>\n",
       "      <td>Union Liquid Fund - Direct Plan - Growth Option</td>\n",
       "      <td>2120.1962</td>\n",
       "      <td>2022-11-28</td>\n",
       "      <td>2089.4715</td>\n",
       "      <td>1.470453</td>\n",
       "      <td>2079.9503</td>\n",
       "      <td>1.934945</td>\n",
       "    </tr>\n",
       "  </tbody>\n",
       "</table>\n",
       "</div>"
      ],
      "text/plain": [
       "        Scheme_Code                                      Scheme_Name  \\\n",
       "6703078      119303  Union Liquid Fund - Direct Plan - Growth Option   \n",
       "6702987      119303  Union Liquid Fund - Direct Plan - Growth Option   \n",
       "6702986      119303  Union Liquid Fund - Direct Plan - Growth Option   \n",
       "6702985      119303  Union Liquid Fund - Direct Plan - Growth Option   \n",
       "6702984      119303  Union Liquid Fund - Direct Plan - Growth Option   \n",
       "\n",
       "         Net_Asset_Value       Date  3M_OLD_Price  3M_per_chng  6M_OLD_Price  \\\n",
       "6703078        2156.1427 2023-03-02     2090.7862     3.125929     2081.4058   \n",
       "6702987        2121.4103 2022-12-01     2090.4754     1.479802     2081.1092   \n",
       "6702986        2121.0349 2022-11-30     2090.1246     1.478874     2080.8100   \n",
       "6702985        2120.6145 2022-11-29     2089.7893     1.475039     2080.4052   \n",
       "6702984        2120.1962 2022-11-28     2089.4715     1.470453     2079.9503   \n",
       "\n",
       "         6M_per_chng  \n",
       "6703078     3.590693  \n",
       "6702987     1.936520  \n",
       "6702986     1.933137  \n",
       "6702985     1.932763  \n",
       "6702984     1.934945  "
      ]
     },
     "execution_count": 167,
     "metadata": {},
     "output_type": "execute_result"
    }
   ],
   "source": [
    "union_mf_5Y.head()"
   ]
  },
  {
   "cell_type": "code",
   "execution_count": 168,
   "metadata": {},
   "outputs": [
    {
     "name": "stderr",
     "output_type": "stream",
     "text": [
      "/var/folders/0y/mwh4sz4x7n98q__h0k1h0mkc0000gn/T/ipykernel_17267/630216260.py:1: SettingWithCopyWarning: \n",
      "A value is trying to be set on a copy of a slice from a DataFrame.\n",
      "Try using .loc[row_indexer,col_indexer] = value instead\n",
      "\n",
      "See the caveats in the documentation: https://pandas.pydata.org/pandas-docs/stable/user_guide/indexing.html#returning-a-view-versus-a-copy\n",
      "  union_mf_5Y['1Y_OLD_Price'] = union_mf_5Y['Net_Asset_Value'].shift(-365)\n"
     ]
    }
   ],
   "source": [
    "union_mf_5Y['1Y_OLD_Price'] = union_mf_5Y['Net_Asset_Value'].shift(-365)"
   ]
  },
  {
   "cell_type": "code",
   "execution_count": 169,
   "metadata": {},
   "outputs": [
    {
     "name": "stderr",
     "output_type": "stream",
     "text": [
      "/var/folders/0y/mwh4sz4x7n98q__h0k1h0mkc0000gn/T/ipykernel_17267/955198717.py:1: SettingWithCopyWarning: \n",
      "A value is trying to be set on a copy of a slice from a DataFrame.\n",
      "Try using .loc[row_indexer,col_indexer] = value instead\n",
      "\n",
      "See the caveats in the documentation: https://pandas.pydata.org/pandas-docs/stable/user_guide/indexing.html#returning-a-view-versus-a-copy\n",
      "  union_mf_5Y['1Y_per_chng']=(union_mf_5Y['Net_Asset_Value']/union_mf_5Y['1Y_OLD_Price']-1)*100\n"
     ]
    }
   ],
   "source": [
    "union_mf_5Y['1Y_per_chng']=(union_mf_5Y['Net_Asset_Value']/union_mf_5Y['1Y_OLD_Price']-1)*100"
   ]
  },
  {
   "cell_type": "code",
   "execution_count": 170,
   "metadata": {},
   "outputs": [
    {
     "data": {
      "text/html": [
       "<div>\n",
       "<style scoped>\n",
       "    .dataframe tbody tr th:only-of-type {\n",
       "        vertical-align: middle;\n",
       "    }\n",
       "\n",
       "    .dataframe tbody tr th {\n",
       "        vertical-align: top;\n",
       "    }\n",
       "\n",
       "    .dataframe thead th {\n",
       "        text-align: right;\n",
       "    }\n",
       "</style>\n",
       "<table border=\"1\" class=\"dataframe\">\n",
       "  <thead>\n",
       "    <tr style=\"text-align: right;\">\n",
       "      <th></th>\n",
       "      <th>Scheme_Code</th>\n",
       "      <th>Scheme_Name</th>\n",
       "      <th>Net_Asset_Value</th>\n",
       "      <th>Date</th>\n",
       "      <th>3M_OLD_Price</th>\n",
       "      <th>3M_per_chng</th>\n",
       "      <th>6M_OLD_Price</th>\n",
       "      <th>6M_per_chng</th>\n",
       "      <th>1Y_OLD_Price</th>\n",
       "      <th>1Y_per_chng</th>\n",
       "    </tr>\n",
       "  </thead>\n",
       "  <tbody>\n",
       "    <tr>\n",
       "      <th>6703078</th>\n",
       "      <td>119303</td>\n",
       "      <td>Union Liquid Fund - Direct Plan - Growth Option</td>\n",
       "      <td>2156.1427</td>\n",
       "      <td>2023-03-02</td>\n",
       "      <td>2090.7862</td>\n",
       "      <td>3.125929</td>\n",
       "      <td>2081.4058</td>\n",
       "      <td>3.590693</td>\n",
       "      <td>2027.0197</td>\n",
       "      <td>6.370091</td>\n",
       "    </tr>\n",
       "    <tr>\n",
       "      <th>6702987</th>\n",
       "      <td>119303</td>\n",
       "      <td>Union Liquid Fund - Direct Plan - Growth Option</td>\n",
       "      <td>2121.4103</td>\n",
       "      <td>2022-12-01</td>\n",
       "      <td>2090.4754</td>\n",
       "      <td>1.479802</td>\n",
       "      <td>2081.1092</td>\n",
       "      <td>1.936520</td>\n",
       "      <td>2026.8358</td>\n",
       "      <td>4.666116</td>\n",
       "    </tr>\n",
       "    <tr>\n",
       "      <th>6702986</th>\n",
       "      <td>119303</td>\n",
       "      <td>Union Liquid Fund - Direct Plan - Growth Option</td>\n",
       "      <td>2121.0349</td>\n",
       "      <td>2022-11-30</td>\n",
       "      <td>2090.1246</td>\n",
       "      <td>1.478874</td>\n",
       "      <td>2080.8100</td>\n",
       "      <td>1.933137</td>\n",
       "      <td>2026.6446</td>\n",
       "      <td>4.657467</td>\n",
       "    </tr>\n",
       "    <tr>\n",
       "      <th>6702985</th>\n",
       "      <td>119303</td>\n",
       "      <td>Union Liquid Fund - Direct Plan - Growth Option</td>\n",
       "      <td>2120.6145</td>\n",
       "      <td>2022-11-29</td>\n",
       "      <td>2089.7893</td>\n",
       "      <td>1.475039</td>\n",
       "      <td>2080.4052</td>\n",
       "      <td>1.932763</td>\n",
       "      <td>2026.4595</td>\n",
       "      <td>4.646281</td>\n",
       "    </tr>\n",
       "    <tr>\n",
       "      <th>6702984</th>\n",
       "      <td>119303</td>\n",
       "      <td>Union Liquid Fund - Direct Plan - Growth Option</td>\n",
       "      <td>2120.1962</td>\n",
       "      <td>2022-11-28</td>\n",
       "      <td>2089.4715</td>\n",
       "      <td>1.470453</td>\n",
       "      <td>2079.9503</td>\n",
       "      <td>1.934945</td>\n",
       "      <td>2026.2769</td>\n",
       "      <td>4.635067</td>\n",
       "    </tr>\n",
       "  </tbody>\n",
       "</table>\n",
       "</div>"
      ],
      "text/plain": [
       "        Scheme_Code                                      Scheme_Name  \\\n",
       "6703078      119303  Union Liquid Fund - Direct Plan - Growth Option   \n",
       "6702987      119303  Union Liquid Fund - Direct Plan - Growth Option   \n",
       "6702986      119303  Union Liquid Fund - Direct Plan - Growth Option   \n",
       "6702985      119303  Union Liquid Fund - Direct Plan - Growth Option   \n",
       "6702984      119303  Union Liquid Fund - Direct Plan - Growth Option   \n",
       "\n",
       "         Net_Asset_Value       Date  3M_OLD_Price  3M_per_chng  6M_OLD_Price  \\\n",
       "6703078        2156.1427 2023-03-02     2090.7862     3.125929     2081.4058   \n",
       "6702987        2121.4103 2022-12-01     2090.4754     1.479802     2081.1092   \n",
       "6702986        2121.0349 2022-11-30     2090.1246     1.478874     2080.8100   \n",
       "6702985        2120.6145 2022-11-29     2089.7893     1.475039     2080.4052   \n",
       "6702984        2120.1962 2022-11-28     2089.4715     1.470453     2079.9503   \n",
       "\n",
       "         6M_per_chng  1Y_OLD_Price  1Y_per_chng  \n",
       "6703078     3.590693     2027.0197     6.370091  \n",
       "6702987     1.936520     2026.8358     4.666116  \n",
       "6702986     1.933137     2026.6446     4.657467  \n",
       "6702985     1.932763     2026.4595     4.646281  \n",
       "6702984     1.934945     2026.2769     4.635067  "
      ]
     },
     "execution_count": 170,
     "metadata": {},
     "output_type": "execute_result"
    }
   ],
   "source": [
    "union_mf_5Y.head()"
   ]
  },
  {
   "cell_type": "code",
   "execution_count": 171,
   "metadata": {},
   "outputs": [
    {
     "name": "stderr",
     "output_type": "stream",
     "text": [
      "/var/folders/0y/mwh4sz4x7n98q__h0k1h0mkc0000gn/T/ipykernel_17267/2128541180.py:1: SettingWithCopyWarning: \n",
      "A value is trying to be set on a copy of a slice from a DataFrame.\n",
      "Try using .loc[row_indexer,col_indexer] = value instead\n",
      "\n",
      "See the caveats in the documentation: https://pandas.pydata.org/pandas-docs/stable/user_guide/indexing.html#returning-a-view-versus-a-copy\n",
      "  union_mf_5Y['3Y_OLD_Price'] = union_mf_5Y['Net_Asset_Value'].shift(-1080)\n"
     ]
    }
   ],
   "source": [
    "union_mf_5Y['3Y_OLD_Price'] = union_mf_5Y['Net_Asset_Value'].shift(-1080)"
   ]
  },
  {
   "cell_type": "code",
   "execution_count": 172,
   "metadata": {},
   "outputs": [
    {
     "name": "stderr",
     "output_type": "stream",
     "text": [
      "/var/folders/0y/mwh4sz4x7n98q__h0k1h0mkc0000gn/T/ipykernel_17267/176549941.py:1: SettingWithCopyWarning: \n",
      "A value is trying to be set on a copy of a slice from a DataFrame.\n",
      "Try using .loc[row_indexer,col_indexer] = value instead\n",
      "\n",
      "See the caveats in the documentation: https://pandas.pydata.org/pandas-docs/stable/user_guide/indexing.html#returning-a-view-versus-a-copy\n",
      "  union_mf_5Y['3Y_per_chng'] = (union_mf_5Y['Net_Asset_Value']/union_mf_5Y['3M_OLD_Price']-1)*100\n"
     ]
    }
   ],
   "source": [
    "union_mf_5Y['3Y_per_chng'] = (union_mf_5Y['Net_Asset_Value']/union_mf_5Y['3M_OLD_Price']-1)*100"
   ]
  },
  {
   "cell_type": "code",
   "execution_count": 173,
   "metadata": {},
   "outputs": [
    {
     "data": {
      "text/html": [
       "<div>\n",
       "<style scoped>\n",
       "    .dataframe tbody tr th:only-of-type {\n",
       "        vertical-align: middle;\n",
       "    }\n",
       "\n",
       "    .dataframe tbody tr th {\n",
       "        vertical-align: top;\n",
       "    }\n",
       "\n",
       "    .dataframe thead th {\n",
       "        text-align: right;\n",
       "    }\n",
       "</style>\n",
       "<table border=\"1\" class=\"dataframe\">\n",
       "  <thead>\n",
       "    <tr style=\"text-align: right;\">\n",
       "      <th></th>\n",
       "      <th>Scheme_Code</th>\n",
       "      <th>Scheme_Name</th>\n",
       "      <th>Net_Asset_Value</th>\n",
       "      <th>Date</th>\n",
       "      <th>3M_OLD_Price</th>\n",
       "      <th>3M_per_chng</th>\n",
       "      <th>6M_OLD_Price</th>\n",
       "      <th>6M_per_chng</th>\n",
       "      <th>1Y_OLD_Price</th>\n",
       "      <th>1Y_per_chng</th>\n",
       "      <th>3Y_OLD_Price</th>\n",
       "      <th>3Y_per_chng</th>\n",
       "    </tr>\n",
       "  </thead>\n",
       "  <tbody>\n",
       "    <tr>\n",
       "      <th>6703078</th>\n",
       "      <td>119303</td>\n",
       "      <td>Union Liquid Fund - Direct Plan - Growth Option</td>\n",
       "      <td>2156.1427</td>\n",
       "      <td>2023-03-02</td>\n",
       "      <td>2090.7862</td>\n",
       "      <td>3.125929</td>\n",
       "      <td>2081.4058</td>\n",
       "      <td>3.590693</td>\n",
       "      <td>2027.0197</td>\n",
       "      <td>6.370091</td>\n",
       "      <td>1879.6299</td>\n",
       "      <td>3.125929</td>\n",
       "    </tr>\n",
       "    <tr>\n",
       "      <th>6702987</th>\n",
       "      <td>119303</td>\n",
       "      <td>Union Liquid Fund - Direct Plan - Growth Option</td>\n",
       "      <td>2121.4103</td>\n",
       "      <td>2022-12-01</td>\n",
       "      <td>2090.4754</td>\n",
       "      <td>1.479802</td>\n",
       "      <td>2081.1092</td>\n",
       "      <td>1.936520</td>\n",
       "      <td>2026.8358</td>\n",
       "      <td>4.666116</td>\n",
       "      <td>1879.3685</td>\n",
       "      <td>1.479802</td>\n",
       "    </tr>\n",
       "    <tr>\n",
       "      <th>6702986</th>\n",
       "      <td>119303</td>\n",
       "      <td>Union Liquid Fund - Direct Plan - Growth Option</td>\n",
       "      <td>2121.0349</td>\n",
       "      <td>2022-11-30</td>\n",
       "      <td>2090.1246</td>\n",
       "      <td>1.478874</td>\n",
       "      <td>2080.8100</td>\n",
       "      <td>1.933137</td>\n",
       "      <td>2026.6446</td>\n",
       "      <td>4.657467</td>\n",
       "      <td>1879.0896</td>\n",
       "      <td>1.478874</td>\n",
       "    </tr>\n",
       "    <tr>\n",
       "      <th>6702985</th>\n",
       "      <td>119303</td>\n",
       "      <td>Union Liquid Fund - Direct Plan - Growth Option</td>\n",
       "      <td>2120.6145</td>\n",
       "      <td>2022-11-29</td>\n",
       "      <td>2089.7893</td>\n",
       "      <td>1.475039</td>\n",
       "      <td>2080.4052</td>\n",
       "      <td>1.932763</td>\n",
       "      <td>2026.4595</td>\n",
       "      <td>4.646281</td>\n",
       "      <td>1878.8367</td>\n",
       "      <td>1.475039</td>\n",
       "    </tr>\n",
       "    <tr>\n",
       "      <th>6702984</th>\n",
       "      <td>119303</td>\n",
       "      <td>Union Liquid Fund - Direct Plan - Growth Option</td>\n",
       "      <td>2120.1962</td>\n",
       "      <td>2022-11-28</td>\n",
       "      <td>2089.4715</td>\n",
       "      <td>1.470453</td>\n",
       "      <td>2079.9503</td>\n",
       "      <td>1.934945</td>\n",
       "      <td>2026.2769</td>\n",
       "      <td>4.635067</td>\n",
       "      <td>1878.5745</td>\n",
       "      <td>1.470453</td>\n",
       "    </tr>\n",
       "  </tbody>\n",
       "</table>\n",
       "</div>"
      ],
      "text/plain": [
       "        Scheme_Code                                      Scheme_Name  \\\n",
       "6703078      119303  Union Liquid Fund - Direct Plan - Growth Option   \n",
       "6702987      119303  Union Liquid Fund - Direct Plan - Growth Option   \n",
       "6702986      119303  Union Liquid Fund - Direct Plan - Growth Option   \n",
       "6702985      119303  Union Liquid Fund - Direct Plan - Growth Option   \n",
       "6702984      119303  Union Liquid Fund - Direct Plan - Growth Option   \n",
       "\n",
       "         Net_Asset_Value       Date  3M_OLD_Price  3M_per_chng  6M_OLD_Price  \\\n",
       "6703078        2156.1427 2023-03-02     2090.7862     3.125929     2081.4058   \n",
       "6702987        2121.4103 2022-12-01     2090.4754     1.479802     2081.1092   \n",
       "6702986        2121.0349 2022-11-30     2090.1246     1.478874     2080.8100   \n",
       "6702985        2120.6145 2022-11-29     2089.7893     1.475039     2080.4052   \n",
       "6702984        2120.1962 2022-11-28     2089.4715     1.470453     2079.9503   \n",
       "\n",
       "         6M_per_chng  1Y_OLD_Price  1Y_per_chng  3Y_OLD_Price  3Y_per_chng  \n",
       "6703078     3.590693     2027.0197     6.370091     1879.6299     3.125929  \n",
       "6702987     1.936520     2026.8358     4.666116     1879.3685     1.479802  \n",
       "6702986     1.933137     2026.6446     4.657467     1879.0896     1.478874  \n",
       "6702985     1.932763     2026.4595     4.646281     1878.8367     1.475039  \n",
       "6702984     1.934945     2026.2769     4.635067     1878.5745     1.470453  "
      ]
     },
     "execution_count": 173,
     "metadata": {},
     "output_type": "execute_result"
    }
   ],
   "source": [
    "union_mf_5Y.head()"
   ]
  },
  {
   "cell_type": "code",
   "execution_count": 174,
   "metadata": {},
   "outputs": [
    {
     "name": "stderr",
     "output_type": "stream",
     "text": [
      "/var/folders/0y/mwh4sz4x7n98q__h0k1h0mkc0000gn/T/ipykernel_17267/1961394489.py:1: SettingWithCopyWarning: \n",
      "A value is trying to be set on a copy of a slice from a DataFrame.\n",
      "Try using .loc[row_indexer,col_indexer] = value instead\n",
      "\n",
      "See the caveats in the documentation: https://pandas.pydata.org/pandas-docs/stable/user_guide/indexing.html#returning-a-view-versus-a-copy\n",
      "  union_mf_5Y['5Y_OLD_price'] = union_mf_5Y['Net_Asset_Value'].shift(-1825)\n"
     ]
    }
   ],
   "source": [
    "union_mf_5Y['5Y_OLD_price'] = union_mf_5Y['Net_Asset_Value'].shift(-1825)"
   ]
  },
  {
   "cell_type": "code",
   "execution_count": 175,
   "metadata": {},
   "outputs": [
    {
     "name": "stderr",
     "output_type": "stream",
     "text": [
      "/var/folders/0y/mwh4sz4x7n98q__h0k1h0mkc0000gn/T/ipykernel_17267/1505328001.py:1: SettingWithCopyWarning: \n",
      "A value is trying to be set on a copy of a slice from a DataFrame.\n",
      "Try using .loc[row_indexer,col_indexer] = value instead\n",
      "\n",
      "See the caveats in the documentation: https://pandas.pydata.org/pandas-docs/stable/user_guide/indexing.html#returning-a-view-versus-a-copy\n",
      "  union_mf_5Y['%Y_per_chng'] = (union_mf_5Y['Net_Asset_Value']/union_mf_5Y['5Y_OLD_price']-1)*100\n"
     ]
    }
   ],
   "source": [
    "union_mf_5Y['%Y_per_chng'] = (union_mf_5Y['Net_Asset_Value']/union_mf_5Y['5Y_OLD_price']-1)*100"
   ]
  },
  {
   "cell_type": "code",
   "execution_count": 176,
   "metadata": {},
   "outputs": [
    {
     "data": {
      "text/html": [
       "<div>\n",
       "<style scoped>\n",
       "    .dataframe tbody tr th:only-of-type {\n",
       "        vertical-align: middle;\n",
       "    }\n",
       "\n",
       "    .dataframe tbody tr th {\n",
       "        vertical-align: top;\n",
       "    }\n",
       "\n",
       "    .dataframe thead th {\n",
       "        text-align: right;\n",
       "    }\n",
       "</style>\n",
       "<table border=\"1\" class=\"dataframe\">\n",
       "  <thead>\n",
       "    <tr style=\"text-align: right;\">\n",
       "      <th></th>\n",
       "      <th>Scheme_Code</th>\n",
       "      <th>Scheme_Name</th>\n",
       "      <th>Net_Asset_Value</th>\n",
       "      <th>Date</th>\n",
       "      <th>3M_OLD_Price</th>\n",
       "      <th>3M_per_chng</th>\n",
       "      <th>6M_OLD_Price</th>\n",
       "      <th>6M_per_chng</th>\n",
       "      <th>1Y_OLD_Price</th>\n",
       "      <th>1Y_per_chng</th>\n",
       "      <th>3Y_OLD_Price</th>\n",
       "      <th>3Y_per_chng</th>\n",
       "      <th>5Y_OLD_price</th>\n",
       "      <th>%Y_per_chng</th>\n",
       "    </tr>\n",
       "  </thead>\n",
       "  <tbody>\n",
       "    <tr>\n",
       "      <th>6703078</th>\n",
       "      <td>119303</td>\n",
       "      <td>Union Liquid Fund - Direct Plan - Growth Option</td>\n",
       "      <td>2156.1427</td>\n",
       "      <td>2023-03-02</td>\n",
       "      <td>2090.7862</td>\n",
       "      <td>3.125929</td>\n",
       "      <td>2081.4058</td>\n",
       "      <td>3.590693</td>\n",
       "      <td>2027.0197</td>\n",
       "      <td>6.370091</td>\n",
       "      <td>1879.6299</td>\n",
       "      <td>3.125929</td>\n",
       "      <td>NaN</td>\n",
       "      <td>NaN</td>\n",
       "    </tr>\n",
       "    <tr>\n",
       "      <th>6702987</th>\n",
       "      <td>119303</td>\n",
       "      <td>Union Liquid Fund - Direct Plan - Growth Option</td>\n",
       "      <td>2121.4103</td>\n",
       "      <td>2022-12-01</td>\n",
       "      <td>2090.4754</td>\n",
       "      <td>1.479802</td>\n",
       "      <td>2081.1092</td>\n",
       "      <td>1.936520</td>\n",
       "      <td>2026.8358</td>\n",
       "      <td>4.666116</td>\n",
       "      <td>1879.3685</td>\n",
       "      <td>1.479802</td>\n",
       "      <td>NaN</td>\n",
       "      <td>NaN</td>\n",
       "    </tr>\n",
       "    <tr>\n",
       "      <th>6702986</th>\n",
       "      <td>119303</td>\n",
       "      <td>Union Liquid Fund - Direct Plan - Growth Option</td>\n",
       "      <td>2121.0349</td>\n",
       "      <td>2022-11-30</td>\n",
       "      <td>2090.1246</td>\n",
       "      <td>1.478874</td>\n",
       "      <td>2080.8100</td>\n",
       "      <td>1.933137</td>\n",
       "      <td>2026.6446</td>\n",
       "      <td>4.657467</td>\n",
       "      <td>1879.0896</td>\n",
       "      <td>1.478874</td>\n",
       "      <td>NaN</td>\n",
       "      <td>NaN</td>\n",
       "    </tr>\n",
       "    <tr>\n",
       "      <th>6702985</th>\n",
       "      <td>119303</td>\n",
       "      <td>Union Liquid Fund - Direct Plan - Growth Option</td>\n",
       "      <td>2120.6145</td>\n",
       "      <td>2022-11-29</td>\n",
       "      <td>2089.7893</td>\n",
       "      <td>1.475039</td>\n",
       "      <td>2080.4052</td>\n",
       "      <td>1.932763</td>\n",
       "      <td>2026.4595</td>\n",
       "      <td>4.646281</td>\n",
       "      <td>1878.8367</td>\n",
       "      <td>1.475039</td>\n",
       "      <td>NaN</td>\n",
       "      <td>NaN</td>\n",
       "    </tr>\n",
       "    <tr>\n",
       "      <th>6702984</th>\n",
       "      <td>119303</td>\n",
       "      <td>Union Liquid Fund - Direct Plan - Growth Option</td>\n",
       "      <td>2120.1962</td>\n",
       "      <td>2022-11-28</td>\n",
       "      <td>2089.4715</td>\n",
       "      <td>1.470453</td>\n",
       "      <td>2079.9503</td>\n",
       "      <td>1.934945</td>\n",
       "      <td>2026.2769</td>\n",
       "      <td>4.635067</td>\n",
       "      <td>1878.5745</td>\n",
       "      <td>1.470453</td>\n",
       "      <td>NaN</td>\n",
       "      <td>NaN</td>\n",
       "    </tr>\n",
       "  </tbody>\n",
       "</table>\n",
       "</div>"
      ],
      "text/plain": [
       "        Scheme_Code                                      Scheme_Name  \\\n",
       "6703078      119303  Union Liquid Fund - Direct Plan - Growth Option   \n",
       "6702987      119303  Union Liquid Fund - Direct Plan - Growth Option   \n",
       "6702986      119303  Union Liquid Fund - Direct Plan - Growth Option   \n",
       "6702985      119303  Union Liquid Fund - Direct Plan - Growth Option   \n",
       "6702984      119303  Union Liquid Fund - Direct Plan - Growth Option   \n",
       "\n",
       "         Net_Asset_Value       Date  3M_OLD_Price  3M_per_chng  6M_OLD_Price  \\\n",
       "6703078        2156.1427 2023-03-02     2090.7862     3.125929     2081.4058   \n",
       "6702987        2121.4103 2022-12-01     2090.4754     1.479802     2081.1092   \n",
       "6702986        2121.0349 2022-11-30     2090.1246     1.478874     2080.8100   \n",
       "6702985        2120.6145 2022-11-29     2089.7893     1.475039     2080.4052   \n",
       "6702984        2120.1962 2022-11-28     2089.4715     1.470453     2079.9503   \n",
       "\n",
       "         6M_per_chng  1Y_OLD_Price  1Y_per_chng  3Y_OLD_Price  3Y_per_chng  \\\n",
       "6703078     3.590693     2027.0197     6.370091     1879.6299     3.125929   \n",
       "6702987     1.936520     2026.8358     4.666116     1879.3685     1.479802   \n",
       "6702986     1.933137     2026.6446     4.657467     1879.0896     1.478874   \n",
       "6702985     1.932763     2026.4595     4.646281     1878.8367     1.475039   \n",
       "6702984     1.934945     2026.2769     4.635067     1878.5745     1.470453   \n",
       "\n",
       "         5Y_OLD_price  %Y_per_chng  \n",
       "6703078           NaN          NaN  \n",
       "6702987           NaN          NaN  \n",
       "6702986           NaN          NaN  \n",
       "6702985           NaN          NaN  \n",
       "6702984           NaN          NaN  "
      ]
     },
     "execution_count": 176,
     "metadata": {},
     "output_type": "execute_result"
    }
   ],
   "source": [
    "union_mf_5Y.head()"
   ]
  },
  {
   "cell_type": "code",
   "execution_count": 177,
   "metadata": {},
   "outputs": [
    {
     "name": "stdout",
     "output_type": "stream",
     "text": [
      "        Scheme_Code                                      Scheme_Name  \\\n",
      "6703078      119303  Union Liquid Fund - Direct Plan - Growth Option   \n",
      "\n",
      "         Net_Asset_Value       Date  3M_OLD_Price  3M_per_chng  6M_OLD_Price  \\\n",
      "6703078        2156.1427 2023-03-02     2090.7862     3.125929     2081.4058   \n",
      "\n",
      "         6M_per_chng  1Y_OLD_Price  1Y_per_chng  3Y_OLD_Price  3Y_per_chng  \\\n",
      "6703078     3.590693     2027.0197     6.370091     1879.6299     3.125929   \n",
      "\n",
      "         5Y_OLD_price  %Y_per_chng  \n",
      "6703078           NaN          NaN  \n"
     ]
    }
   ],
   "source": [
    "print(union_mf_5Y.iloc[:1])"
   ]
  },
  {
   "cell_type": "code",
   "execution_count": 178,
   "metadata": {},
   "outputs": [],
   "source": [
    "union_df = union_mf_5Y.iloc[:1]"
   ]
  },
  {
   "cell_type": "code",
   "execution_count": 179,
   "metadata": {},
   "outputs": [
    {
     "data": {
      "text/html": [
       "<div>\n",
       "<style scoped>\n",
       "    .dataframe tbody tr th:only-of-type {\n",
       "        vertical-align: middle;\n",
       "    }\n",
       "\n",
       "    .dataframe tbody tr th {\n",
       "        vertical-align: top;\n",
       "    }\n",
       "\n",
       "    .dataframe thead th {\n",
       "        text-align: right;\n",
       "    }\n",
       "</style>\n",
       "<table border=\"1\" class=\"dataframe\">\n",
       "  <thead>\n",
       "    <tr style=\"text-align: right;\">\n",
       "      <th></th>\n",
       "      <th>Scheme_Code</th>\n",
       "      <th>Scheme_Name</th>\n",
       "      <th>Net_Asset_Value</th>\n",
       "      <th>Date</th>\n",
       "      <th>3M_OLD_Price</th>\n",
       "      <th>3M_per_chng</th>\n",
       "      <th>6M_OLD_Price</th>\n",
       "      <th>6M_per_chng</th>\n",
       "      <th>1Y_OLD_Price</th>\n",
       "      <th>1Y_per_chng</th>\n",
       "      <th>3Y_OLD_Price</th>\n",
       "      <th>3Y_per_chng</th>\n",
       "      <th>5Y_OLD_price</th>\n",
       "      <th>%Y_per_chng</th>\n",
       "    </tr>\n",
       "  </thead>\n",
       "  <tbody>\n",
       "    <tr>\n",
       "      <th>6703078</th>\n",
       "      <td>119303</td>\n",
       "      <td>Union Liquid Fund - Direct Plan - Growth Option</td>\n",
       "      <td>2156.1427</td>\n",
       "      <td>2023-03-02</td>\n",
       "      <td>2090.7862</td>\n",
       "      <td>3.125929</td>\n",
       "      <td>2081.4058</td>\n",
       "      <td>3.590693</td>\n",
       "      <td>2027.0197</td>\n",
       "      <td>6.370091</td>\n",
       "      <td>1879.6299</td>\n",
       "      <td>3.125929</td>\n",
       "      <td>NaN</td>\n",
       "      <td>NaN</td>\n",
       "    </tr>\n",
       "  </tbody>\n",
       "</table>\n",
       "</div>"
      ],
      "text/plain": [
       "        Scheme_Code                                      Scheme_Name  \\\n",
       "6703078      119303  Union Liquid Fund - Direct Plan - Growth Option   \n",
       "\n",
       "         Net_Asset_Value       Date  3M_OLD_Price  3M_per_chng  6M_OLD_Price  \\\n",
       "6703078        2156.1427 2023-03-02     2090.7862     3.125929     2081.4058   \n",
       "\n",
       "         6M_per_chng  1Y_OLD_Price  1Y_per_chng  3Y_OLD_Price  3Y_per_chng  \\\n",
       "6703078     3.590693     2027.0197     6.370091     1879.6299     3.125929   \n",
       "\n",
       "         5Y_OLD_price  %Y_per_chng  \n",
       "6703078           NaN          NaN  "
      ]
     },
     "execution_count": 179,
     "metadata": {},
     "output_type": "execute_result"
    }
   ],
   "source": [
    "union_df"
   ]
  },
  {
   "cell_type": "code",
   "execution_count": 193,
   "metadata": {},
   "outputs": [
    {
     "data": {
      "text/plain": [
       "Index(['Scheme_Code', 'Scheme_Name', 'Net_Asset_Value', 'Date', '3M_OLD_Price',\n",
       "       '3M_per_chng', '6M_OLD_Price', '6M_per_chng', '1Y_OLD_Price',\n",
       "       '1Y_per_chng', '3Y_OLD_Price', '3Y_per_chng', '5Y_OLD_price',\n",
       "       '%Y_per_chng'],\n",
       "      dtype='object')"
      ]
     },
     "execution_count": 193,
     "metadata": {},
     "output_type": "execute_result"
    }
   ],
   "source": [
    "union_df.columns"
   ]
  },
  {
   "cell_type": "code",
   "execution_count": 140,
   "metadata": {},
   "outputs": [
    {
     "ename": "TypeError",
     "evalue": "unhashable type: 'Series'",
     "output_type": "error",
     "traceback": [
      "\u001b[0;31m---------------------------------------------------------------------------\u001b[0m",
      "\u001b[0;31mTypeError\u001b[0m                                 Traceback (most recent call last)",
      "Cell \u001b[0;32mIn[140], line 2\u001b[0m\n\u001b[1;32m      1\u001b[0m union_analysis \u001b[39m=\u001b[39m {}\n\u001b[0;32m----> 2\u001b[0m union_analysis[union_df\u001b[39m.\u001b[39;49mScheme_Code]\u001b[39m=\u001b[39m{}\n\u001b[1;32m      3\u001b[0m union_analysis[union_df\u001b[39m.\u001b[39mScheme_Code][\u001b[39m'\u001b[39m\u001b[39mScheme_Name\u001b[39m\u001b[39m'\u001b[39m]\u001b[39m=\u001b[39munion_df\u001b[39m.\u001b[39mScheme_Name\n\u001b[1;32m      4\u001b[0m union_analysis[union_df\u001b[39m.\u001b[39mScheme_Code][\u001b[39m'\u001b[39m\u001b[39mNAV\u001b[39m\u001b[39m'\u001b[39m]\u001b[39m=\u001b[39munion_df\u001b[39m.\u001b[39mNet_Asset_Value\n",
      "\u001b[0;31mTypeError\u001b[0m: unhashable type: 'Series'"
     ]
    }
   ],
   "source": [
    "union_analysis = {}\n",
    "union_analysis[union_df.Scheme_Code]={}\n",
    "union_analysis[union_df.Scheme_Code]['Scheme_Name']=union_df.Scheme_Name\n",
    "union_analysis[union_df.Scheme_Code]['NAV']=union_df.Net_Asset_Value\n",
    "union_analysis[union_df.Scheme_Code]['3M_Ret']=union_df['3M_OLD_Price']\n",
    "# union_analysis[union_df.Scheme_Code]['3M_Ret_per']=union_df['3M_per_chng']\n",
    "# union_analysis[union_df.Scheme_Code]['6M_Ret']=union_df['6M_OLD_Price']\n",
    "# union_analysis[union_df.Scheme_Code]['6M_Ret_per']=union_df['6M_per_chng']\n",
    "# union_analysis[union_df.Scheme_Code]['1Y_Ret']=union_df['1Y_OLD_Price']\n",
    "# union_analysis[union_df.Scheme_Code]['1Y_Ret_per']=union_df['1Y_per_chng']\n",
    "# union_analysis[union_df.Scheme_Code]['3Y_Ret']=union_df['3Y_OLD_Price']\n",
    "# union_analysis[union_df.Scheme_Code]['3Y_Ret_per']=union_df['3Y_per_chng']"
   ]
  },
  {
   "cell_type": "code",
   "execution_count": null,
   "metadata": {},
   "outputs": [],
   "source": []
  },
  {
   "cell_type": "code",
   "execution_count": null,
   "metadata": {},
   "outputs": [],
   "source": []
  }
 ],
 "metadata": {
  "kernelspec": {
   "display_name": "Python 3.10.10 ('newvenv': venv)",
   "language": "python",
   "name": "python3"
  },
  "language_info": {
   "codemirror_mode": {
    "name": "ipython",
    "version": 3
   },
   "file_extension": ".py",
   "mimetype": "text/x-python",
   "name": "python",
   "nbconvert_exporter": "python",
   "pygments_lexer": "ipython3",
   "version": "3.10.10"
  },
  "orig_nbformat": 4,
  "vscode": {
   "interpreter": {
    "hash": "52b43f502854151c5b1d755d744237aa371a910094053ee208d381791aeefd3c"
   }
  }
 },
 "nbformat": 4,
 "nbformat_minor": 2
}
